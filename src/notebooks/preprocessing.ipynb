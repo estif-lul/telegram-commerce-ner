{
 "cells": [
  {
   "cell_type": "code",
   "execution_count": 28,
   "id": "9099451c",
   "metadata": {},
   "outputs": [],
   "source": [
    "import pandas as pd\n",
    "# from transformers import pipeline, AutoModelForCausalLM, AutoTokenizer\n",
    "\n",
    "import sys\n",
    "sys.path.insert(1, '../scripts')\n",
    "from preprocessor import remove_emojies"
   ]
  },
  {
   "cell_type": "code",
   "execution_count": 29,
   "id": "4225df9e",
   "metadata": {},
   "outputs": [],
   "source": [
    "from tqdm import tqdm\n",
    "tqdm.pandas()"
   ]
  },
  {
   "cell_type": "code",
   "execution_count": 30,
   "id": "26d82a97",
   "metadata": {},
   "outputs": [
    {
     "data": {
      "text/html": [
       "<style>td { white-space: normal !important; word-break: break-word !important; }</style>"
      ],
      "text/plain": [
       "<IPython.core.display.HTML object>"
      ]
     },
     "metadata": {},
     "output_type": "display_data"
    }
   ],
   "source": [
    "from IPython.display import display, HTML\n",
    "pd.set_option('display.max_colwidth', None)\n",
    "# Set pandas to wrap text in DataFrame display\n",
    "display(HTML(\"<style>td { white-space: normal !important; word-break: break-word !important; }</style>\"))"
   ]
  },
  {
   "cell_type": "code",
   "execution_count": 31,
   "id": "877448c0",
   "metadata": {},
   "outputs": [],
   "source": [
    "df = pd.read_csv('../../data/telegram_data.csv')\n"
   ]
  },
  {
   "cell_type": "code",
   "execution_count": 32,
   "id": "a2e52194",
   "metadata": {},
   "outputs": [
    {
     "data": {
      "text/plain": [
       "(35168, 6)"
      ]
     },
     "execution_count": 32,
     "metadata": {},
     "output_type": "execute_result"
    }
   ],
   "source": [
    "df.shape"
   ]
  },
  {
   "cell_type": "code",
   "execution_count": 33,
   "id": "51bb1e0b",
   "metadata": {},
   "outputs": [
    {
     "name": "stdout",
     "output_type": "stream",
     "text": [
      "Channel Title           0\n",
      "Channel Username        0\n",
      "ID                      0\n",
      "Message             14400\n",
      "Date                    0\n",
      "Media Path           6379\n",
      "dtype: int64\n"
     ]
    }
   ],
   "source": [
    "print (df.isna().sum())\n",
    "df = df.dropna(subset=['Message'])"
   ]
  },
  {
   "cell_type": "code",
   "execution_count": 34,
   "id": "c3ddc7fe",
   "metadata": {},
   "outputs": [
    {
     "data": {
      "text/plain": [
       "(20768, 6)"
      ]
     },
     "execution_count": 34,
     "metadata": {},
     "output_type": "execute_result"
    }
   ],
   "source": [
    "df.shape"
   ]
  },
  {
   "cell_type": "code",
   "execution_count": 35,
   "id": "1253536a",
   "metadata": {},
   "outputs": [
    {
     "name": "stdout",
     "output_type": "stream",
     "text": [
      "Duplicated Contents 6588\n"
     ]
    },
    {
     "data": {
      "text/plain": [
       "(14180, 6)"
      ]
     },
     "execution_count": 35,
     "metadata": {},
     "output_type": "execute_result"
    }
   ],
   "source": [
    "print(f\"Duplicated Contents {df.duplicated(subset=['Message']).sum()}\")\n",
    "df = df.drop_duplicates(subset=['Message'])\n",
    "df.shape"
   ]
  },
  {
   "cell_type": "code",
   "execution_count": 36,
   "id": "a2493f43",
   "metadata": {},
   "outputs": [
    {
     "name": "stderr",
     "output_type": "stream",
     "text": [
      "100%|██████████| 14180/14180 [00:00<00:00, 84156.95it/s]\n"
     ]
    }
   ],
   "source": [
    "df['Message'] = df['Message'].progress_apply(remove_emojies)"
   ]
  },
  {
   "cell_type": "code",
   "execution_count": 37,
   "id": "5bbe03ac",
   "metadata": {},
   "outputs": [
    {
     "data": {
      "text/html": [
       "<div>\n",
       "<style scoped>\n",
       "    .dataframe tbody tr th:only-of-type {\n",
       "        vertical-align: middle;\n",
       "    }\n",
       "\n",
       "    .dataframe tbody tr th {\n",
       "        vertical-align: top;\n",
       "    }\n",
       "\n",
       "    .dataframe thead th {\n",
       "        text-align: right;\n",
       "    }\n",
       "</style>\n",
       "<table border=\"1\" class=\"dataframe\">\n",
       "  <thead>\n",
       "    <tr style=\"text-align: right;\">\n",
       "      <th></th>\n",
       "      <th>Channel Title</th>\n",
       "      <th>Message</th>\n",
       "    </tr>\n",
       "  </thead>\n",
       "  <tbody>\n",
       "    <tr>\n",
       "      <th>29715</th>\n",
       "      <td>ምርጥ ዕቃ</td>\n",
       "      <td>Wast/Dust Basket Set\\n\\n የቆሻሻ ማጠራቀሚያ ባልዲዎች\\n 20 ሊትር፣ 15 ሊትር እና 10 ሊትር የሚይዝ\\n ከውስጡ ማንጠልጠያ ያለው ድፍን ባልዲ ያለው\\n በጣም ጠንካራ በእግረሰ ፔዳል የሚከፈት ከእጅ ንኪኪ ነፃ\\n ለተለያዬ የቤት ክፍልዎ ውስጥ መጠቀም ይችላሉ\\n\\n 3ቱንም 7000 ብር\\n\\n ሱቃችን መጥተው መኪና ማቆሚያ ከተቸገሩ መኪናዎ ላይ ሆነው ይደውሉ እናቀብልዎታለን\\n\\n ከ100 እስከ 200 ብር ብቻ ከፍለው ካሉበት እንልካለን\\n\\n ክፍለሃገር ላላችሁ ደንበኞቻችን የፈለጉትን ዕቃ በመልዕክት እንልክልዎታለን\\n\\nለማዘዝ   @ordermertteka1       \\n ለማዘዝ   @ordermertteka2\\n\\nለወዳጅዎ forward በማድረግ ይተባበሩን\\n 0944-22-23-24\\n 0904-94-48-48\\n\\nአድራሻችን\\n\\nመገናኛ ዘፍመሽ ግራንድ ሞል 3ኛ ፎቅ ከሊፍት ሲወርዱ ወደ ቀኝ ታጥፈው ቀጥታ 376‌\\n\\nበኪስዎ ጥሬ ገንዘብ ካልያዙ በሞባይል ማስተላለፍ ይችላሉ።\\n\\n ይሄንን t.me/MerttEka  ተጭነው  join ያድርጉ፣ ቤተሰብ ይሁኑ</td>\n",
       "    </tr>\n",
       "    <tr>\n",
       "      <th>31405</th>\n",
       "      <td>ምርጥ ዕቃ</td>\n",
       "      <td>ልዩ የገና በዓል ቅናሽ\\n\\nRectangular Table Mate\\n\\n የገበታ ምንጣፍ\\nየሚታጠብ ወንፊት\\n በቀላሉ የማይቀደድ የማይቆሽሽ\\n አንዱ 200 ብር \\n\\n 0944-22-23-24\\n 0904-94-48-48\\n\\n ከ100 -200 ብር ብቻ ከፍለው አዲስ አበባ ውስጥ ካሉበት እንልካለን\\n\\nአድራሻችን\\n\\nመገናኛ ዘፍመሽ ግራንድ ሞል 3ኛ ፎቅ ከሊፍት ሲወርዱ ወደ ቀኝ ታጥፈው ቀጥታ 376‌\\n\\nበኪስዎ ጥሬ ገንዘብ ካልያዙ በሞባይል ማስተላለፍ ይችላሉ።\\n\\n ካሉበት ሆነው ለማዘዝ ምርጫዎን በፎቶ አድርገው በዚህ ይላኩልን\\n@ordermertteka1\\n@ordermertteka2</td>\n",
       "    </tr>\n",
       "    <tr>\n",
       "      <th>22540</th>\n",
       "      <td>ማራኪ ცЯﾑŋの™</td>\n",
       "      <td>ይዘዙን ባሉበት እናደርሳለን\\n(free delivery) \\n\\n INFO: @Bilen2211\\n\\n Mobile: 0933682917\\n\\nማራኪ ብራንድ™Maraki Brand™\\n@Marakibrand @Marakibrand\\n@Marakibrand @marakibrand</td>\n",
       "    </tr>\n",
       "    <tr>\n",
       "      <th>34433</th>\n",
       "      <td>ምርጥ ዕቃ</td>\n",
       "      <td>የሽንኩርትና የስጋ መፍጪያ ሲገዙ በስጦታ መልክ ይሄንን ይወስዳሉ</td>\n",
       "    </tr>\n",
       "    <tr>\n",
       "      <th>11519</th>\n",
       "      <td>SINA KIDS/ሲና ኪድስⓇ</td>\n",
       "      <td>baby bather\\n2200birr\\nFree delivery\\nWe have blue &amp; pink color\\n0905707448\\n0909003864\\n\\n0909003864\\n0905707448  \\n\\nእቃ ለማዘዝ ከስር ያለውን ሊንኮች በመጫን ማዘዝ ትችላላቹ  \\n\\n@sinasinaye\\n\\n@sinayalj2\\n\\nአድራሻ\\n\\n 1⃣ቁጥር1 ገርጂ ኢምፔሪያል ከሳሚ ህንፃ ጎን አልፎዝ ፕላዛ ግራውንድ ላይ እንደገቡ ያገኙናል\\n\\n2⃣ቁጥር2 4ኪሎ ቅድስት ስላሴ ህንፃ ማለትም ከብልፅግና ዋናፅፈት ቤት ህንፃ በስተ ቀኝ ባለው አስፓልት 20ሜትር ዝቅ እንዳሉ ሀበሻ ኮፊ የሚገኝበት ቀይ ሸክላ ህንፃ 2ተኛ ፎቅ ላይ ያገኙናል\\n\\n3⃣ቁጥር3 ብስራተ ገብርኤል ላፍቶ ሞል መግቢያው ፊት ለፊት የሚገኘው የብስራተ ገብርኤል ቤተ ክርስቲያን ህንፃ አንደኛ ፎቅ ላይ ደረጃ እንደወጣቹ በስተግራ በኩል ሱቅ ቁጥር FF-09\\n\\nክቡራን ደምበኞቻችን ገርጂ አልፎዝ ፕላዛ ላይ አራት ኪሎ ቅድስት ስላሴ እንዲሁም ብስራተ ገብሬል ያሉት ሱቆቻችን ሲመጡ  አስተማማኝ ሰፊ ፓርኪንግ ያላቸው መሆናቸውን በታላቅ ደስታ እናበስራለን</td>\n",
       "    </tr>\n",
       "    <tr>\n",
       "      <th>3609</th>\n",
       "      <td>Sheger online-store</td>\n",
       "      <td>Silicon Massage Bath Brush\\n  Available color: Yellow, Pink &amp; Blue \\n  Safe Materials \\n  Easy Assembly \\n  More Fun\\n  Capacity : 80ml\\n\\nዋጋ፦    250 ብር\\n\\nውስን ፍሬ ነው ያለው \\n\\n አድራሻ   መገናኛ ታሜ ጋስ ህንፃ ጎን ስሪ ኤም ሲቲ ሞል  ሁለተኛ ፎቅ ቢሮ ቁ. SL-05A(ከ ሊፍቱ ፊት ለ ፊት)\\n\\n     \\n\\n\\n     0909522840\\n     0923350054\\n\\n\\n  በTelegram ለማዘዝ  ይጠቀሙ\\n@shager_onlinestore\\n  \\nለተጨማሪ ማብራሪያ የቴሌግራም ገፃችን\\nhttps://t.me/Shageronlinestore</td>\n",
       "    </tr>\n",
       "    <tr>\n",
       "      <th>20927</th>\n",
       "      <td>ማራኪ ცЯﾑŋの™</td>\n",
       "      <td>WAGOON ™  \\n Made In TURKEY \\n\\n Size:  #40#41 #42 #43 #44\\n Price: 2450 Br \\nFree Delivery \\n \\n INBOX : @Bilen2211 \\n ስልክ : +251 933 682917\\n አድራሻ - አዲስ አበባ, ሜክሲኮ፡ ከ ኬኬር ህንጻ 50ሜ ወረድ ብሎ አይመን ህንፃ  ግራውንድ ፍሎር ላይ፡ የሱቅ ቁ.012\\n⊰⊱⊰⊰\\nMaraki Brand™ ማራኪ ብራንድ™ \\n⊰⊱⊰⊱</td>\n",
       "    </tr>\n",
       "    <tr>\n",
       "      <th>33920</th>\n",
       "      <td>ምርጥ ዕቃ</td>\n",
       "      <td>🤩 FINAL EXAM ለደፈኑ ልጆችዎ ይሸልሟቸው🤩\\n\\nCherub Baby Scotter\\n ከ8 አመት በታች ለሆኑ ልጆች የሚመረጥ\\n ቁመቱ ማጠርም መርዘምም ይችላል\\n ፍሬን አለው\\n ጠንካራ ጎማ\\n 3500 ብር\\nመገናኛ ዘፍመሽ ግራንድ ሞል 3ኛ ፎቅ ከሊፍት ሲወርዱ ወደ ቀኝ 376\\n t.me/MerttEka\\n0911928738</td>\n",
       "    </tr>\n",
       "    <tr>\n",
       "      <th>28792</th>\n",
       "      <td>ምርጥ ዕቃ</td>\n",
       "      <td>Aluminum Cloth Drying Stand\\n\\n ለወዳጆችው forward ያድርጉ ይሄንንም    t.me/MerttEka  ተጭነው  join ያድርጉ፣ ቤተሰብ ይሁኑ።</td>\n",
       "    </tr>\n",
       "    <tr>\n",
       "      <th>24194</th>\n",
       "      <td>qnash.com - ቅናሽ ®️</td>\n",
       "      <td>🥸 Derma Roller System 1.5Mm With 540 Micro Needles\\nለፀጉሮ እና ለፂሞ ዕድገት\\nለፊቶ ጥራት \\n\\nየፊት ቆዳ ጤንነት ለመጠበቅ \\nየተጎዳ የፊት ገፅታን ውብ ለማረድግ ጠቃሚ\\nፊት ላይ የወጣን የቆዳ በሽታ\\n     እንዲሁም ጠባሳን ለማስወገድ ተመራጭ\\n እርጅናን ይቀንሳል\\nየፀጉር መሳሳትን መመለጥን የሚከላከል\\n\\nIt has gained popularity in recent years as an accessible, effective, and relatively non-invasive skin treatment.\\n\\n        ዋጋ፦    600 ብር \\n\\n ለማዘዝ = @Orderqnash\\n\\nውስን ፍሬ ነው የቀረው \\n&lt; Limited Stock \\n\\nTelegram - t.me/qnashcom\\nጥራት  ዋስትና  ቅናሽ\\n\\n አድራሻ ፦ \\nቁጥር 1 :- መገናኛ ዘፍመሽ ግራንድ ሞል 3 ተኛ ፎቅ ቁጥር 329 \\n\\nቁጥር 2 :- ጀሞ 1 ከለላ ህንፃ ግራውንድ ለይ G07 \\n\\n ማሳሰብያ: ሱቃችን ሲመጡ ትክክለኛ የኛ ሱቅ መሆኑ ያረጋግጡ  የራሳችን ሎጎ መኖሩን እና 329 / G07 መሆኑ ያረጋግጡ !\\n\\nስልክ:\\n0946966440\\n0992606060\\n0905464599</td>\n",
       "    </tr>\n",
       "  </tbody>\n",
       "</table>\n",
       "</div>"
      ],
      "text/plain": [
       "             Channel Title  \\\n",
       "29715               ምርጥ ዕቃ   \n",
       "31405               ምርጥ ዕቃ   \n",
       "22540           ማራኪ ცЯﾑŋの™   \n",
       "34433               ምርጥ ዕቃ   \n",
       "11519    SINA KIDS/ሲና ኪድስⓇ   \n",
       "3609   Sheger online-store   \n",
       "20927           ማራኪ ცЯﾑŋの™   \n",
       "33920               ምርጥ ዕቃ   \n",
       "28792               ምርጥ ዕቃ   \n",
       "24194   qnash.com - ቅናሽ ®️   \n",
       "\n",
       "                                                                                                                                                                                                                                                                                                                                                                                                                                                                                                                                                                                                                                                                                                             Message  \n",
       "29715                                                                         Wast/Dust Basket Set\\n\\n የቆሻሻ ማጠራቀሚያ ባልዲዎች\\n 20 ሊትር፣ 15 ሊትር እና 10 ሊትር የሚይዝ\\n ከውስጡ ማንጠልጠያ ያለው ድፍን ባልዲ ያለው\\n በጣም ጠንካራ በእግረሰ ፔዳል የሚከፈት ከእጅ ንኪኪ ነፃ\\n ለተለያዬ የቤት ክፍልዎ ውስጥ መጠቀም ይችላሉ\\n\\n 3ቱንም 7000 ብር\\n\\n ሱቃችን መጥተው መኪና ማቆሚያ ከተቸገሩ መኪናዎ ላይ ሆነው ይደውሉ እናቀብልዎታለን\\n\\n ከ100 እስከ 200 ብር ብቻ ከፍለው ካሉበት እንልካለን\\n\\n ክፍለሃገር ላላችሁ ደንበኞቻችን የፈለጉትን ዕቃ በመልዕክት እንልክልዎታለን\\n\\nለማዘዝ   @ordermertteka1       \\n ለማዘዝ   @ordermertteka2\\n\\nለወዳጅዎ forward በማድረግ ይተባበሩን\\n 0944-22-23-24\\n 0904-94-48-48\\n\\nአድራሻችን\\n\\nመገናኛ ዘፍመሽ ግራንድ ሞል 3ኛ ፎቅ ከሊፍት ሲወርዱ ወደ ቀኝ ታጥፈው ቀጥታ 376‌\\n\\nበኪስዎ ጥሬ ገንዘብ ካልያዙ በሞባይል ማስተላለፍ ይችላሉ።\\n\\n ይሄንን t.me/MerttEka  ተጭነው  join ያድርጉ፣ ቤተሰብ ይሁኑ  \n",
       "31405                                                                                                                                                                                                                                                                                                                              ልዩ የገና በዓል ቅናሽ\\n\\nRectangular Table Mate\\n\\n የገበታ ምንጣፍ\\nየሚታጠብ ወንፊት\\n በቀላሉ የማይቀደድ የማይቆሽሽ\\n አንዱ 200 ብር \\n\\n 0944-22-23-24\\n 0904-94-48-48\\n\\n ከ100 -200 ብር ብቻ ከፍለው አዲስ አበባ ውስጥ ካሉበት እንልካለን\\n\\nአድራሻችን\\n\\nመገናኛ ዘፍመሽ ግራንድ ሞል 3ኛ ፎቅ ከሊፍት ሲወርዱ ወደ ቀኝ ታጥፈው ቀጥታ 376‌\\n\\nበኪስዎ ጥሬ ገንዘብ ካልያዙ በሞባይል ማስተላለፍ ይችላሉ።\\n\\n ካሉበት ሆነው ለማዘዝ ምርጫዎን በፎቶ አድርገው በዚህ ይላኩልን\\n@ordermertteka1\\n@ordermertteka2  \n",
       "22540                                                                                                                                                                                                                                                                                                                                                                                                                                                                                                                                                ይዘዙን ባሉበት እናደርሳለን\\n(free delivery) \\n\\n INFO: @Bilen2211\\n\\n Mobile: 0933682917\\n\\nማራኪ ብራንድ™Maraki Brand™\\n@Marakibrand @Marakibrand\\n@Marakibrand @marakibrand  \n",
       "34433                                                                                                                                                                                                                                                                                                                                                                                                                                                                                                                                                                                                                                                                       የሽንኩርትና የስጋ መፍጪያ ሲገዙ በስጦታ መልክ ይሄንን ይወስዳሉ  \n",
       "11519                                                                baby bather\\n2200birr\\nFree delivery\\nWe have blue & pink color\\n0905707448\\n0909003864\\n\\n0909003864\\n0905707448  \\n\\nእቃ ለማዘዝ ከስር ያለውን ሊንኮች በመጫን ማዘዝ ትችላላቹ  \\n\\n@sinasinaye\\n\\n@sinayalj2\\n\\nአድራሻ\\n\\n 1⃣ቁጥር1 ገርጂ ኢምፔሪያል ከሳሚ ህንፃ ጎን አልፎዝ ፕላዛ ግራውንድ ላይ እንደገቡ ያገኙናል\\n\\n2⃣ቁጥር2 4ኪሎ ቅድስት ስላሴ ህንፃ ማለትም ከብልፅግና ዋናፅፈት ቤት ህንፃ በስተ ቀኝ ባለው አስፓልት 20ሜትር ዝቅ እንዳሉ ሀበሻ ኮፊ የሚገኝበት ቀይ ሸክላ ህንፃ 2ተኛ ፎቅ ላይ ያገኙናል\\n\\n3⃣ቁጥር3 ብስራተ ገብርኤል ላፍቶ ሞል መግቢያው ፊት ለፊት የሚገኘው የብስራተ ገብርኤል ቤተ ክርስቲያን ህንፃ አንደኛ ፎቅ ላይ ደረጃ እንደወጣቹ በስተግራ በኩል ሱቅ ቁጥር FF-09\\n\\nክቡራን ደምበኞቻችን ገርጂ አልፎዝ ፕላዛ ላይ አራት ኪሎ ቅድስት ስላሴ እንዲሁም ብስራተ ገብሬል ያሉት ሱቆቻችን ሲመጡ  አስተማማኝ ሰፊ ፓርኪንግ ያላቸው መሆናቸውን በታላቅ ደስታ እናበስራለን  \n",
       "3609                                                                                                                                                                                                                                                                                           Silicon Massage Bath Brush\\n  Available color: Yellow, Pink & Blue \\n  Safe Materials \\n  Easy Assembly \\n  More Fun\\n  Capacity : 80ml\\n\\nዋጋ፦    250 ብር\\n\\nውስን ፍሬ ነው ያለው \\n\\n አድራሻ   መገናኛ ታሜ ጋስ ህንፃ ጎን ስሪ ኤም ሲቲ ሞል  ሁለተኛ ፎቅ ቢሮ ቁ. SL-05A(ከ ሊፍቱ ፊት ለ ፊት)\\n\\n     \\n\\n\\n     0909522840\\n     0923350054\\n\\n\\n  በTelegram ለማዘዝ  ይጠቀሙ\\n@shager_onlinestore\\n  \\nለተጨማሪ ማብራሪያ የቴሌግራም ገፃችን\\nhttps://t.me/Shageronlinestore  \n",
       "20927                                                                                                                                                                                                                                                                                                                                                                                                                                             WAGOON ™  \\n Made In TURKEY \\n\\n Size:  #40#41 #42 #43 #44\\n Price: 2450 Br \\nFree Delivery \\n \\n INBOX : @Bilen2211 \\n ስልክ : +251 933 682917\\n አድራሻ - አዲስ አበባ, ሜክሲኮ፡ ከ ኬኬር ህንጻ 50ሜ ወረድ ብሎ አይመን ህንፃ  ግራውንድ ፍሎር ላይ፡ የሱቅ ቁ.012\\n⊰⊱⊰⊰\\nMaraki Brand™ ማራኪ ብራንድ™ \\n⊰⊱⊰⊱  \n",
       "33920                                                                                                                                                                                                                                                                                                                                                                                                                                                                                                  🤩 FINAL EXAM ለደፈኑ ልጆችዎ ይሸልሟቸው🤩\\n\\nCherub Baby Scotter\\n ከ8 አመት በታች ለሆኑ ልጆች የሚመረጥ\\n ቁመቱ ማጠርም መርዘምም ይችላል\\n ፍሬን አለው\\n ጠንካራ ጎማ\\n 3500 ብር\\nመገናኛ ዘፍመሽ ግራንድ ሞል 3ኛ ፎቅ ከሊፍት ሲወርዱ ወደ ቀኝ 376\\n t.me/MerttEka\\n0911928738  \n",
       "28792                                                                                                                                                                                                                                                                                                                                                                                                                                                                                                                                                                                                         Aluminum Cloth Drying Stand\\n\\n ለወዳጆችው forward ያድርጉ ይሄንንም    t.me/MerttEka  ተጭነው  join ያድርጉ፣ ቤተሰብ ይሁኑ።  \n",
       "24194  🥸 Derma Roller System 1.5Mm With 540 Micro Needles\\nለፀጉሮ እና ለፂሞ ዕድገት\\nለፊቶ ጥራት \\n\\nየፊት ቆዳ ጤንነት ለመጠበቅ \\nየተጎዳ የፊት ገፅታን ውብ ለማረድግ ጠቃሚ\\nፊት ላይ የወጣን የቆዳ በሽታ\\n     እንዲሁም ጠባሳን ለማስወገድ ተመራጭ\\n እርጅናን ይቀንሳል\\nየፀጉር መሳሳትን መመለጥን የሚከላከል\\n\\nIt has gained popularity in recent years as an accessible, effective, and relatively non-invasive skin treatment.\\n\\n        ዋጋ፦    600 ብር \\n\\n ለማዘዝ = @Orderqnash\\n\\nውስን ፍሬ ነው የቀረው \\n< Limited Stock \\n\\nTelegram - t.me/qnashcom\\nጥራት  ዋስትና  ቅናሽ\\n\\n አድራሻ ፦ \\nቁጥር 1 :- መገናኛ ዘፍመሽ ግራንድ ሞል 3 ተኛ ፎቅ ቁጥር 329 \\n\\nቁጥር 2 :- ጀሞ 1 ከለላ ህንፃ ግራውንድ ለይ G07 \\n\\n ማሳሰብያ: ሱቃችን ሲመጡ ትክክለኛ የኛ ሱቅ መሆኑ ያረጋግጡ  የራሳችን ሎጎ መኖሩን እና 329 / G07 መሆኑ ያረጋግጡ !\\n\\nስልክ:\\n0946966440\\n0992606060\\n0905464599  "
      ]
     },
     "execution_count": 37,
     "metadata": {},
     "output_type": "execute_result"
    }
   ],
   "source": [
    "df[['Channel Title', 'Message']].sample(10)"
   ]
  },
  {
   "cell_type": "code",
   "execution_count": 38,
   "id": "8575b51e",
   "metadata": {},
   "outputs": [],
   "source": [
    "df['Message'].to_csv('../../data/for_labeling.csv', index=False)"
   ]
  }
 ],
 "metadata": {
  "kernelspec": {
   "display_name": ".venv",
   "language": "python",
   "name": "python3"
  },
  "language_info": {
   "codemirror_mode": {
    "name": "ipython",
    "version": 3
   },
   "file_extension": ".py",
   "mimetype": "text/x-python",
   "name": "python",
   "nbconvert_exporter": "python",
   "pygments_lexer": "ipython3",
   "version": "3.10.18"
  }
 },
 "nbformat": 4,
 "nbformat_minor": 5
}
