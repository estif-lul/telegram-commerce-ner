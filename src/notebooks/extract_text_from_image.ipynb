{
 "cells": [
  {
   "cell_type": "code",
   "execution_count": 24,
   "id": "e401e238",
   "metadata": {},
   "outputs": [],
   "source": [
    "import pytesseract\n",
    "from PIL import Image\n",
    "from tqdm import tqdm\n",
    "\n",
    "import os\n",
    "import csv\n",
    "\n",
    "from concurrent.futures import ThreadPoolExecutor"
   ]
  },
  {
   "cell_type": "code",
   "execution_count": 25,
   "id": "380b6f40",
   "metadata": {},
   "outputs": [
    {
     "name": "stdout",
     "output_type": "stream",
     "text": [
      "28789\n"
     ]
    }
   ],
   "source": [
    "files = os.listdir('../../data/photos')\n",
    "header = ['Channel Username', 'Image ID', 'Content', 'Media Path']\n",
    "print(len(files))"
   ]
  },
  {
   "cell_type": "code",
   "execution_count": 26,
   "id": "0e024901",
   "metadata": {},
   "outputs": [],
   "source": [
    "def write_to_file(filename, rows, header=None):\n",
    "    file_exists = os.path.exists('../../data/' + filename)\n",
    "    write_header = not file_exists or os.path.getsize('../../data/' + filename) == 0\n",
    "\n",
    "    with open('../../data/' + filename, 'a', newline='', encoding='utf-8') as f:\n",
    "        writer = csv.writer(f)\n",
    "        if write_header and header:\n",
    "            writer.writerow(header)\n",
    "        writer.writerows(rows)"
   ]
  },
  {
   "cell_type": "code",
   "execution_count": 27,
   "id": "711fc0e6",
   "metadata": {},
   "outputs": [],
   "source": [
    "def process_image(file):\n",
    "    if file.endswith('.jpg') or file.endswith('.png'):\n",
    "        img_path = os.path.join('../../data/photos', file)\n",
    "        temp = file.split('_')\n",
    "        channel_username = temp[0]\n",
    "        image_id = temp[1].split('.')[0]\n",
    "        media_path = file\n",
    "\n",
    "        img = Image.open(img_path)\n",
    "        text = pytesseract.image_to_string(img, lang='eng')\n",
    "        return [channel_username, image_id, text, media_path]\n",
    "    return None"
   ]
  },
  {
   "cell_type": "code",
   "execution_count": 28,
   "id": "92d8bad1",
   "metadata": {},
   "outputs": [
    {
     "name": "stderr",
     "output_type": "stream",
     "text": [
      "100%|██████████| 28789/28789 [32:14<00:00, 14.88it/s]  \n"
     ]
    }
   ],
   "source": [
    "rows = []\n",
    "with ThreadPoolExecutor() as executor:\n",
    "    results = list(tqdm(executor.map(process_image, files), total=len(files)))\n",
    "    rows = [row for row in results if row is not None]\n",
    "\n",
    "write_to_file('extracted_text.csv', rows, header)"
   ]
  }
 ],
 "metadata": {
  "kernelspec": {
   "display_name": ".venv",
   "language": "python",
   "name": "python3"
  },
  "language_info": {
   "codemirror_mode": {
    "name": "ipython",
    "version": 3
   },
   "file_extension": ".py",
   "mimetype": "text/x-python",
   "name": "python",
   "nbconvert_exporter": "python",
   "pygments_lexer": "ipython3",
   "version": "3.13.3"
  }
 },
 "nbformat": 4,
 "nbformat_minor": 5
}
